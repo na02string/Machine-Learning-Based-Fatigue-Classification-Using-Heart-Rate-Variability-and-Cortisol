{
 "cells": [
  {
   "cell_type": "markdown",
   "metadata": {},
   "source": [
    "- 의료 데이터이므로, 자세한 전처리 과정에 관한 코드는 공개하지 않습니다.\n",
    "\n",
    "- 의료 데이터이므로, 데이터 정보가 노출되는 셀은 출력을 제거했습니다.\n",
    "- 출력 길이가 쓸데 없이 긴 셀도 출력을 제거했습니다."
   ]
  },
  {
   "cell_type": "code",
   "execution_count": 56,
   "metadata": {},
   "outputs": [],
   "source": [
    "import pandas as pd\n",
    "import numpy as np\n",
    "from IPython.display import display\n",
    "import sys\n",
    "sys.path.append('/workspace/HRV')\n",
    "from func import *"
   ]
  },
  {
   "cell_type": "code",
   "execution_count": null,
   "metadata": {},
   "outputs": [],
   "source": [
    "df = pd.read_excel('final_data.xlsx')\n",
    "df.drop(columns = ['Unnamed: 0'],inplace = True)\n",
    "display(df.head(2))\n",
    "print(df.shape) # (336, 54)"
   ]
  },
  {
   "cell_type": "code",
   "execution_count": null,
   "metadata": {},
   "outputs": [],
   "source": [
    "print(df.isna().sum()) # '25-Hydroxy Vitamin D (D3/D2)' 에만 nan 값 존재"
   ]
  },
  {
   "cell_type": "code",
   "execution_count": 59,
   "metadata": {},
   "outputs": [],
   "source": [
    "col_list = {'num_col' : [],\n",
    "            'cat_col' : [],\n",
    "            'cat_col_ord' : [],\n",
    "            'label' : ['state_anx'],\n",
    "            'drop_col' : []\n",
    "            }"
   ]
  },
  {
   "cell_type": "markdown",
   "metadata": {},
   "source": [
    "### ChartID\tPersonalID 환자번호"
   ]
  },
  {
   "cell_type": "code",
   "execution_count": 60,
   "metadata": {},
   "outputs": [
    {
     "name": "stdout",
     "output_type": "stream",
     "text": [
      "336\n",
      "336\n",
      "336\n",
      "336\n"
     ]
    }
   ],
   "source": [
    "print(df.shape[0])\n",
    "print(len(set(df['ChartID'])))\n",
    "print(len(set(df['PersonalID'])))\n",
    "print(len(set(df['환자번호'])))\n",
    "# 각 row별로 다른 환자에 대한 데이터"
   ]
  },
  {
   "cell_type": "code",
   "execution_count": 61,
   "metadata": {},
   "outputs": [],
   "source": [
    "col_list['drop_col'].extend(['ChartID','PersonalID'])\n",
    "col_list['drop_col'].extend(['환자번호'])\n",
    "col_list['drop_col'].extend(['Date'])"
   ]
  },
  {
   "cell_type": "markdown",
   "metadata": {},
   "source": [
    "### Age"
   ]
  },
  {
   "cell_type": "code",
   "execution_count": 62,
   "metadata": {},
   "outputs": [
    {
     "name": "stdout",
     "output_type": "stream",
     "text": [
      "(array([19, 20, 21, 22, 23, 24, 25, 26, 27, 29, 30, 31, 32, 33, 34, 35, 36,\n",
      "       37, 38, 39, 40, 41, 42, 43, 44, 45, 46, 47, 48, 49, 50, 51, 52, 53,\n",
      "       54, 55, 56, 57, 58, 59, 60, 61, 62, 63, 64, 65, 66, 67, 68, 69, 70,\n",
      "       72, 73, 83], dtype=int64), array([ 3,  2,  3,  2,  1,  1,  1,  2,  3,  2,  8,  4,  4,  4,  4, 10,  4,\n",
      "        5,  7,  9,  9,  7,  5,  9, 13, 10,  8, 14, 10,  9, 11,  7, 10, 11,\n",
      "       11,  9,  7,  6, 12, 11, 11,  8, 14,  4,  9,  4,  5,  3,  1,  2,  2,\n",
      "        2,  2,  1], dtype=int64))\n",
      "수치형변수입니다.\n",
      "수치형 변수에 추가했습니다.\n",
      "['Age']\n"
     ]
    }
   ],
   "source": [
    "check(df, 'Age',col_list)"
   ]
  },
  {
   "cell_type": "markdown",
   "metadata": {},
   "source": [
    "### Sex"
   ]
  },
  {
   "cell_type": "code",
   "execution_count": 63,
   "metadata": {},
   "outputs": [
    {
     "name": "stdout",
     "output_type": "stream",
     "text": [
      "(array([0, 1], dtype=int64), array([191, 145], dtype=int64))\n",
      "cat_col에 추가했습니다.\n",
      "['Sex']\n"
     ]
    }
   ],
   "source": [
    "check(df, 'Sex',col_list)"
   ]
  },
  {
   "cell_type": "markdown",
   "metadata": {},
   "source": [
    "### 측정센서"
   ]
  },
  {
   "cell_type": "code",
   "execution_count": 64,
   "metadata": {},
   "outputs": [
    {
     "name": "stdout",
     "output_type": "stream",
     "text": [
      "(array(['ECG'], dtype=object), array([336], dtype=int64))\n",
      "drop_col에 추가했습니다.\n",
      "['ChartID', 'PersonalID', '환자번호', 'Date', '측정센서']\n"
     ]
    }
   ],
   "source": [
    "check(df, '측정센서',col_list)"
   ]
  },
  {
   "cell_type": "markdown",
   "metadata": {},
   "source": [
    "### 자율신경 활성도"
   ]
  },
  {
   "cell_type": "code",
   "execution_count": 65,
   "metadata": {},
   "outputs": [
    {
     "name": "stdout",
     "output_type": "stream",
     "text": [
      "(array([ 50.  ,  54.29,  55.71,  61.43,  62.86,  63.33,  64.29,  65.71,\n",
      "        67.14,  68.57,  70.  ,  71.43,  72.86,  74.  ,  74.29,  75.71,\n",
      "        76.15,  76.67,  77.14,  77.69,  78.  ,  78.57,  79.33,  80.  ,\n",
      "        80.77,  81.43,  82.  ,  82.86,  83.33,  83.85,  84.29,  84.67,\n",
      "        85.71,  86.  ,  86.92,  87.14,  87.33,  88.46,  88.57,  88.67,\n",
      "        90.  ,  91.54,  91.67,  91.82,  92.  ,  93.08,  93.33,  93.64,\n",
      "        94.  ,  94.62,  95.  ,  95.45,  96.  ,  96.15,  96.67,  97.27,\n",
      "        97.69,  98.  ,  98.33,  99.09,  99.23, 100.  , 100.77, 100.91,\n",
      "       101.67, 102.  , 102.31, 102.73, 103.33, 103.85, 104.  , 104.55,\n",
      "       105.  , 105.38, 106.36, 106.67, 106.92, 108.18, 108.33, 108.46,\n",
      "       110.  , 114.  , 115.  , 116.67, 122.  , 126.  , 130.  , 131.43,\n",
      "       132.67, 132.86, 134.  , 137.14, 138.57, 140.  , 142.31, 145.71,\n",
      "       150.  ]), array([ 1,  1,  1,  1,  3,  1,  2,  2,  3,  2,  5,  1,  6,  2,  3,  5,  2,\n",
      "        2, 10,  2,  1, 10,  2, 11,  2, 10,  3, 10,  1,  1,  9,  1, 12,  2,\n",
      "        2, 12,  1,  1,  5,  1, 14,  5,  2,  1,  3,  4,  3, 10,  1, 10,  4,\n",
      "        3,  3,  3,  7,  3,  3,  1,  6,  3,  4,  3,  1,  4,  5,  1,  3,  2,\n",
      "        5,  3,  2,  1,  2,  2,  3,  4,  3,  3,  4,  1,  9,  2,  7,  1,  3,\n",
      "        1,  4,  1,  1,  2,  1,  1,  2,  1,  1,  1,  1], dtype=int64))\n",
      "수치형변수입니다.\n",
      "수치형 변수에 추가했습니다.\n",
      "['Age', '자율신경 활성도']\n"
     ]
    }
   ],
   "source": [
    "check(df, '자율신경 활성도',col_list)"
   ]
  },
  {
   "cell_type": "markdown",
   "metadata": {},
   "source": [
    "### 자율신경 균형도"
   ]
  },
  {
   "cell_type": "code",
   "execution_count": 66,
   "metadata": {},
   "outputs": [
    {
     "name": "stdout",
     "output_type": "stream",
     "text": [
      "(array([  0.  ,   1.79,   1.92,   2.78,   2.94,   3.13,   3.57,   3.85,\n",
      "         5.56,   5.77,   5.88,   6.25,   7.14,   7.69,   8.82,   9.38,\n",
      "         9.62,  11.54,  11.76,  12.5 ,  13.46,  13.89,  14.29,  14.71,\n",
      "        15.38,  15.63,  16.07,  17.31,  17.86,  18.75,  19.23,  19.64,\n",
      "        21.15,  21.88,  22.22,  23.08,  23.21,  25.  ,  26.47,  26.92,\n",
      "        27.78,  28.13,  28.85,  30.36,  30.77,  31.25,  32.14,  32.35,\n",
      "        32.69,  34.62,  35.71,  37.5 ,  38.24,  38.46,  40.38,  41.67,\n",
      "        42.86,  43.75,  44.12,  44.23,  44.44,  46.15,  48.08,  50.  ,\n",
      "        51.43,  51.47,  52.  ,  52.86,  53.23,  53.64,  55.  ,  56.  ,\n",
      "        56.36,  57.14,  57.27,  57.81,  58.  ,  58.33,  58.57,  58.7 ,\n",
      "        59.  ,  59.38,  59.65,  61.29,  62.5 ,  62.73,  63.04,  63.24,\n",
      "        64.29,  65.  ,  65.22,  66.67,  67.  ,  67.19,  68.57,  69.  ,\n",
      "        70.  ,  70.59,  71.74,  71.82,  75.  ,  77.17,  77.78,  78.57,\n",
      "        80.  ,  83.33,  84.55,  85.71,  87.5 ,  88.89,  90.  ,  91.67,\n",
      "        94.29,  95.83, 100.  , 110.  , 112.5 , 114.06, 115.71, 116.67,\n",
      "       120.  , 125.  , 126.09, 129.  , 130.  , 130.56, 131.25, 133.33,\n",
      "       137.5 , 141.43, 150.  ]), array([10,  1,  2,  2,  1,  2,  1,  4,  1,  5,  2,  5,  1,  3,  1,  2,  1,\n",
      "        1,  2,  9,  3,  1,  1,  1,  1,  6,  2,  1,  1,  1,  2,  2,  3,  3,\n",
      "        1,  3,  1,  5,  1,  2,  1,  3,  1,  1,  2,  1,  1,  1,  3,  1,  1,\n",
      "        3,  2,  1,  1,  1,  1,  1,  1,  1,  2,  2,  1,  3,  1,  1,  2,  1,\n",
      "        1,  2,  1,  1,  2,  1,  1,  3,  1,  3,  1,  1,  1,  1,  1,  2,  5,\n",
      "        1,  1,  1,  1,  1,  1, 10,  1,  1,  1,  1,  3,  1,  1,  1, 10,  1,\n",
      "        2,  2,  1, 15,  1,  1,  9,  1,  4,  7,  1,  1, 25,  2,  5,  1,  1,\n",
      "       18,  3,  6,  1,  1,  2,  1,  1, 12,  4,  1,  4], dtype=int64))\n",
      "수치형변수입니다.\n",
      "수치형 변수에 추가했습니다.\n",
      "['Age', '자율신경 활성도', '자율신경 균형도']\n"
     ]
    }
   ],
   "source": [
    "check(df, '자율신경 균형도',col_list)"
   ]
  },
  {
   "cell_type": "markdown",
   "metadata": {},
   "source": [
    "### '스트레스 저항도', '스트레스 지수'"
   ]
  },
  {
   "cell_type": "code",
   "execution_count": null,
   "metadata": {},
   "outputs": [],
   "source": [
    "check(df, '스트레스 저항도',col_list)"
   ]
  },
  {
   "cell_type": "code",
   "execution_count": null,
   "metadata": {},
   "outputs": [],
   "source": [
    "check(df, '스트레스 지수',col_list)"
   ]
  },
  {
   "cell_type": "markdown",
   "metadata": {},
   "source": [
    "### 피로도"
   ]
  },
  {
   "cell_type": "code",
   "execution_count": 69,
   "metadata": {},
   "outputs": [
    {
     "name": "stdout",
     "output_type": "stream",
     "text": [
      "(array([ 50.  ,  51.33,  54.29,  55.71,  58.57,  60.  ,  61.43,  62.86,\n",
      "        64.29,  64.67,  66.  ,  67.33,  68.67,  70.  ,  76.67,  83.33,\n",
      "        85.  ,  90.  ,  91.33,  91.54,  92.67,  93.08,  93.64,  94.  ,\n",
      "        94.62,  95.  ,  95.33,  95.45,  96.15,  96.67,  97.14,  97.27,\n",
      "        97.69,  98.  ,  99.23,  99.33, 100.  , 100.67, 101.43, 101.67,\n",
      "       102.  , 102.31, 102.86, 103.33, 104.29, 104.67, 105.  , 105.38,\n",
      "       105.71, 106.  , 106.67, 106.92, 107.14, 107.33, 108.18, 108.33,\n",
      "       108.46, 108.67, 110.  , 111.43, 111.54, 111.67, 112.86, 113.08,\n",
      "       113.33, 114.29, 114.62, 115.  , 115.71, 116.15, 116.67, 117.14,\n",
      "       117.69, 118.33, 118.57, 119.23, 120.  , 120.77, 121.43, 121.67,\n",
      "       122.31, 122.86, 123.33, 123.85, 124.29, 125.  , 125.38, 125.71,\n",
      "       126.67, 126.92, 128.33, 128.46, 128.57, 130.  , 131.43, 132.67,\n",
      "       132.86, 133.08, 134.  , 134.29, 134.62, 135.33, 135.71, 136.15,\n",
      "       137.69, 140.  , 141.43, 142.  , 142.31, 143.85, 144.29, 145.38,\n",
      "       147.14, 148.46, 150.  ]), array([ 5,  1,  1,  2,  1,  1,  1,  1,  4,  1,  3,  1,  1,  5,  1,  1,  1,\n",
      "        3,  2,  3,  2,  1,  1,  1,  2,  1,  2,  1,  2,  3,  2,  1,  4,  4,\n",
      "        4,  5,  7,  5,  1,  2,  2,  2,  1,  5,  2,  6,  4,  6,  2,  4,  3,\n",
      "        1,  2,  3,  2,  4,  2,  3, 17,  9,  6,  4,  3,  7,  3,  5, 10,  1,\n",
      "        4,  5,  5,  7,  7,  6,  6,  4,  5,  4,  4,  2,  2,  4,  3,  4,  1,\n",
      "        2,  3,  2,  2,  4,  1,  3,  3,  6,  1,  1,  2,  1,  2,  1,  1,  1,\n",
      "        1,  2,  1,  1,  2,  1,  2,  1,  1,  1,  1,  1,  3], dtype=int64))\n",
      "수치형변수입니다.\n",
      "수치형 변수에 추가했습니다.\n",
      "['Age', '자율신경 활성도', '자율신경 균형도', '스트레스 저항도', '스트레스 지수', '피로도']\n"
     ]
    }
   ],
   "source": [
    "check(df, '피로도',col_list)"
   ]
  },
  {
   "cell_type": "markdown",
   "metadata": {},
   "source": [
    "### 평균 심박동수"
   ]
  },
  {
   "cell_type": "code",
   "execution_count": null,
   "metadata": {},
   "outputs": [],
   "source": [
    "check(df,'평균 심박동수', col_list)"
   ]
  },
  {
   "cell_type": "markdown",
   "metadata": {},
   "source": [
    "### '심장 안정도','이상 심박동수'"
   ]
  },
  {
   "cell_type": "code",
   "execution_count": 16,
   "metadata": {},
   "outputs": [
    {
     "name": "stdout",
     "output_type": "stream",
     "text": [
      "(array([ 50.  ,  51.18,  51.25,  51.33,  55.33,  55.88,  58.  ,  60.67,\n",
      "        61.25,  61.76,  62.  ,  63.33,  63.75,  64.67,  65.  ,  66.47,\n",
      "        67.5 ,  67.65,  68.67,  68.75,  70.  ,  71.54,  71.67,  71.82,\n",
      "        73.64,  74.62,  75.  ,  76.15,  76.67,  77.69,  78.33,  79.09,\n",
      "        79.23,  80.  ,  80.77,  80.91,  81.67,  82.31,  83.33,  83.85,\n",
      "        85.  ,  85.38,  86.36,  86.67,  86.92,  88.33,  88.46,  90.  ,\n",
      "        91.18,  91.25,  91.33,  91.43,  92.35,  92.5 ,  92.67,  93.53,\n",
      "        93.75,  94.  ,  94.29,  94.71,  95.  ,  95.33,  95.71,  95.88,\n",
      "        96.25,  96.67,  97.06,  97.14,  97.5 ,  98.  ,  98.57,  98.75,\n",
      "        99.33,  99.41, 100.  , 100.59, 100.67, 101.25, 101.43, 101.76,\n",
      "       102.  , 102.5 , 102.86, 102.94, 103.33, 103.75, 104.12, 104.29,\n",
      "       104.67, 105.  , 105.29, 105.71, 106.  , 106.25, 106.47, 107.14,\n",
      "       107.33, 107.5 , 108.57, 108.67, 108.75, 108.82, 110.  , 116.67,\n",
      "       120.  , 123.33, 130.  , 131.18, 131.25, 131.33, 132.35, 132.67,\n",
      "       133.53, 134.  , 134.29, 134.71, 135.  , 135.33, 135.71, 136.25,\n",
      "       136.67, 137.06, 138.  , 138.24, 139.41, 140.  , 140.67, 142.  ,\n",
      "       144.12, 144.67, 145.  , 150.  ]), array([ 2,  1,  1,  1,  2,  1,  1,  3,  1,  1,  1,  3,  1,  1,  1,  1,  1,\n",
      "        1,  3,  1,  4,  1,  2,  1,  1,  1,  1,  5,  4,  2,  4,  1,  1,  2,\n",
      "        4,  1,  2,  3,  4,  5,  1,  5,  1,  5,  2,  5,  2,  9,  1,  3,  5,\n",
      "        1,  1,  1,  7,  2,  1,  6,  1,  2,  2,  5,  2,  3,  2,  2,  4,  4,\n",
      "        3,  2,  5,  1,  4,  5,  3,  3,  4,  3,  2,  2,  5,  1,  5,  3,  4,\n",
      "        1,  1,  3, 10,  1,  3,  2,  4,  1,  3,  3,  4,  4,  2,  1,  1,  2,\n",
      "        8,  6,  2,  4,  4,  2,  1,  4,  2,  2,  2,  5,  1,  3,  2,  4,  2,\n",
      "        1,  1,  1,  2,  2,  1,  1,  1,  1,  1,  2,  2,  3], dtype=int64))\n",
      "수치형변수입니다.\n",
      "수치형 변수에 추가했습니다.\n",
      "['Age', '자율신경 활성도', '자율신경 균형도', '스트레스 저항도', '스트레스 지수', '피로도', '평균 심박동수', '심장 안정도']\n"
     ]
    }
   ],
   "source": [
    "check(df, '심장 안정도',col_list)"
   ]
  },
  {
   "cell_type": "code",
   "execution_count": 17,
   "metadata": {},
   "outputs": [
    {
     "name": "stdout",
     "output_type": "stream",
     "text": [
      "(array([  0,   1,   2,   3,   4,   5,   6,   7,   8,  12,  14,  16,  34,\n",
      "        47, 107], dtype=int64), array([296,  16,   5,   6,   1,   1,   1,   2,   2,   1,   1,   1,   1,\n",
      "         1,   1], dtype=int64))\n",
      "수치형변수입니다.\n",
      "수치형 변수에 추가했습니다.\n",
      "['Age', '자율신경 활성도', '자율신경 균형도', '스트레스 저항도', '스트레스 지수', '피로도', '평균 심박동수', '심장 안정도', '이상 심박동수']\n"
     ]
    }
   ],
   "source": [
    "check(df, '이상 심박동수',col_list)"
   ]
  },
  {
   "cell_type": "markdown",
   "metadata": {},
   "source": [
    "### 'Sdnn', 'Psi', 'Tp', 'Vlf', 'Lf', 'Hf', 'LfNorm', 'HfNorm','Lf/Hf', 'Rmssd', 'Apen', 'Srd', 'Tsrd', 'Tp(ln)', 'Vlf(ln)', 'Lf(ln)','Hf(ln)'"
   ]
  },
  {
   "cell_type": "code",
   "execution_count": null,
   "metadata": {},
   "outputs": [],
   "source": [
    "li = ['Sdnn', 'Psi', 'Tp', 'Vlf', 'Lf', 'Hf', 'LfNorm', 'HfNorm',\n",
    "       'Lf/Hf', 'Rmssd', 'Apen', 'Srd', 'Tsrd', 'Tp(ln)', 'Vlf(ln)', 'Lf(ln)',\n",
    "       'Hf(ln)']\n",
    "for i in li:\n",
    "    check(df, i,col_list)"
   ]
  },
  {
   "cell_type": "markdown",
   "metadata": {},
   "source": [
    "### 수진당시나이"
   ]
  },
  {
   "cell_type": "code",
   "execution_count": 19,
   "metadata": {},
   "outputs": [
    {
     "name": "stdout",
     "output_type": "stream",
     "text": [
      "(array([19, 20, 21, 22, 23, 24, 25, 26, 27, 29, 30, 31, 32, 33, 34, 35, 36,\n",
      "       37, 38, 39, 40, 41, 42, 43, 44, 45, 46, 47, 48, 49, 50, 51, 52, 53,\n",
      "       54, 55, 56, 57, 58, 59, 60, 61, 62, 63, 64, 65, 66, 67, 68, 69, 70,\n",
      "       72, 73, 83], dtype=int64), array([ 3,  2,  3,  2,  1,  1,  1,  2,  3,  2,  8,  4,  4,  4,  4, 10,  4,\n",
      "        5,  7,  9,  9,  7,  5,  9, 13, 10,  8, 14, 10,  9, 11,  7, 10, 11,\n",
      "       11,  9,  7,  6, 12, 11, 11,  8, 14,  4,  9,  4,  5,  3,  1,  2,  2,\n",
      "        2,  2,  1], dtype=int64))\n",
      "수치형변수입니다.\n",
      "수치형 변수에 추가했습니다.\n",
      "['Age', '자율신경 활성도', '자율신경 균형도', '스트레스 저항도', '스트레스 지수', '피로도', '평균 심박동수', '심장 안정도', '이상 심박동수', 'Sdnn', 'Psi', 'Tp', 'Vlf', 'Lf', 'Hf', 'LfNorm', 'HfNorm', 'Lf/Hf', 'Rmssd', 'Apen', 'Srd', 'Tsrd', 'Tp(ln)', 'Vlf(ln)', 'Lf(ln)', 'Hf(ln)', '수진당시나이']\n"
     ]
    }
   ],
   "source": [
    "check(df, '수진당시나이',col_list)"
   ]
  },
  {
   "cell_type": "code",
   "execution_count": 20,
   "metadata": {},
   "outputs": [
    {
     "name": "stdout",
     "output_type": "stream",
     "text": [
      "(array([0, 1], dtype=int64), array([  7, 329], dtype=int64))\n",
      "cat_col에 추가했습니다.\n",
      "['Sex', 'PSS']\n",
      "(array([0, 1], dtype=int64), array([241,  95], dtype=int64))\n",
      "cat_col에 추가했습니다.\n",
      "['Sex', 'PSS', 'AB']\n",
      "(array([0, 1], dtype=int64), array([180, 156], dtype=int64))\n",
      "cat_col에 추가했습니다.\n",
      "['Sex', 'PSS', 'AB', 'FSS']\n",
      "(array([0, 1], dtype=int64), array([214, 122], dtype=int64))\n",
      "cat_col에 추가했습니다.\n",
      "['Sex', 'PSS', 'AB', 'FSS', 'CES']\n",
      "(array([0, 1], dtype=int64), array([167, 169], dtype=int64))\n",
      "cat_col에 추가했습니다.\n",
      "['Sex', 'PSS', 'AB', 'FSS', 'CES', 'BFI']\n"
     ]
    }
   ],
   "source": [
    "li = ['PSS', 'AB', 'FSS', 'CES'\n",
    "    #   , 'state_anx' \n",
    "      , 'BFI']\n",
    "for i in li:\n",
    "    check(df, i, col_list)"
   ]
  },
  {
   "cell_type": "markdown",
   "metadata": {},
   "source": [
    "### '25-Hydroxy Vitamin D (D3/D2)' -> 결측값 존재 : 사용하지 않겠음"
   ]
  },
  {
   "cell_type": "code",
   "execution_count": 21,
   "metadata": {},
   "outputs": [
    {
     "name": "stdout",
     "output_type": "stream",
     "text": [
      "(array([nan]), array([336], dtype=int64))\n",
      "수치형변수입니다.\n",
      "drop_col에 추가했습니다.\n",
      "['ChartID', 'PersonalID', '환자 번호', '측정센서', '25-Hydroxy Vitamin D (D3/D2)']\n"
     ]
    }
   ],
   "source": [
    "check(df,'25-Hydroxy Vitamin D (D3/D2)',col_list)"
   ]
  },
  {
   "cell_type": "markdown",
   "metadata": {},
   "source": [
    "### '25-Hydroxy Vitamin D (Total)','Albumin', 'Free T4', 'GGT', 'GOT (AST)', 'GPT (ALT)', 'Glucose', 'Hb','HbA1c-NGSP', 'LDL-Cholesterol', 'TSH', 'TG', 'eGFR'"
   ]
  },
  {
   "cell_type": "code",
   "execution_count": null,
   "metadata": {},
   "outputs": [],
   "source": [
    "li = ['25-Hydroxy Vitamin D (Total)','Albumin', 'Free T4', 'GGT', 'GOT (AST)', 'GPT (ALT)', 'Glucose', 'Hb','HbA1c-NGSP', 'LDL-Cholesterol', 'TSH', 'TG', 'eGFR']\n",
    "for i in li:\n",
    "    check(df,i,col_list)"
   ]
  },
  {
   "cell_type": "markdown",
   "metadata": {},
   "source": [
    "### 등록번호 확인"
   ]
  },
  {
   "cell_type": "code",
   "execution_count": 29,
   "metadata": {},
   "outputs": [
    {
     "name": "stdout",
     "output_type": "stream",
     "text": [
      "336\n",
      "336\n"
     ]
    }
   ],
   "source": [
    "print(len(set(df['등록번호_확인'])))\n",
    "print(df.shape[0])"
   ]
  },
  {
   "cell_type": "code",
   "execution_count": null,
   "metadata": {},
   "outputs": [],
   "source": [
    "check(df,'등록번호_확인', col_list)"
   ]
  },
  {
   "cell_type": "markdown",
   "metadata": {},
   "source": [
    "### 변수 분류된 결과 col_list"
   ]
  },
  {
   "cell_type": "code",
   "execution_count": 30,
   "metadata": {},
   "outputs": [
    {
     "data": {
      "text/plain": [
       "{'num_col': ['Age',\n",
       "  '자율신경 활성도',\n",
       "  '자율신경 균형도',\n",
       "  '스트레스 저항도',\n",
       "  '스트레스 지수',\n",
       "  '피로도',\n",
       "  '평균 심박동수',\n",
       "  '심장 안정도',\n",
       "  '이상 심박동수',\n",
       "  'Sdnn',\n",
       "  'Psi',\n",
       "  'Tp',\n",
       "  'Vlf',\n",
       "  'Lf',\n",
       "  'Hf',\n",
       "  'LfNorm',\n",
       "  'HfNorm',\n",
       "  'Lf/Hf',\n",
       "  'Rmssd',\n",
       "  'Apen',\n",
       "  'Srd',\n",
       "  'Tsrd',\n",
       "  'Tp(ln)',\n",
       "  'Vlf(ln)',\n",
       "  'Lf(ln)',\n",
       "  'Hf(ln)',\n",
       "  '수진당시나이',\n",
       "  '25-Hydroxy Vitamin D (Total)',\n",
       "  'Albumin',\n",
       "  'Free T4',\n",
       "  'GGT',\n",
       "  'GOT (AST)',\n",
       "  'GPT (ALT)',\n",
       "  'Glucose',\n",
       "  'Hb',\n",
       "  'HbA1c-NGSP',\n",
       "  'LDL-Cholesterol',\n",
       "  'TSH',\n",
       "  'TG',\n",
       "  'eGFR'],\n",
       " 'cat_col': ['Sex', 'PSS', 'AB', 'FSS', 'CES', 'BFI'],\n",
       " 'cat_col_ord': [],\n",
       " 'label': ['state_anx'],\n",
       " 'drop_col': ['ChartID',\n",
       "  'PersonalID',\n",
       "  '환자 번호',\n",
       "  '측정센서',\n",
       "  '25-Hydroxy Vitamin D (D3/D2)',\n",
       "  '등록번호_확인']}"
      ]
     },
     "execution_count": 30,
     "metadata": {},
     "output_type": "execute_result"
    }
   ],
   "source": [
    "col_list"
   ]
  },
  {
   "cell_type": "code",
   "execution_count": null,
   "metadata": {},
   "outputs": [],
   "source": [
    "df.drop(columns=col_list['drop_col'],inplace = True)"
   ]
  },
  {
   "cell_type": "code",
   "execution_count": null,
   "metadata": {},
   "outputs": [],
   "source": [
    "df.head(5)"
   ]
  },
  {
   "cell_type": "markdown",
   "metadata": {},
   "source": [
    "### 이상심박동수"
   ]
  },
  {
   "cell_type": "code",
   "execution_count": 43,
   "metadata": {},
   "outputs": [
    {
     "data": {
      "text/plain": [
       "{0, 1, 2, 3, 4, 5, 6, 7, 8, 12, 14, 16, 34, 47, 107}"
      ]
     },
     "execution_count": 43,
     "metadata": {},
     "output_type": "execute_result"
    }
   ],
   "source": [
    "set(df['이상 심박동수'])"
   ]
  },
  {
   "cell_type": "code",
   "execution_count": null,
   "metadata": {},
   "outputs": [],
   "source": [
    "res = df[[ '평균 심박동수',  '심장 안정도','이상 심박동수']]\n",
    "display(res[res['이상 심박동수'] == 0])\n",
    "display(res[res['이상 심박동수'] == 1])\n",
    "display(res[res['이상 심박동수'] == 107])"
   ]
  },
  {
   "cell_type": "code",
   "execution_count": null,
   "metadata": {},
   "outputs": [],
   "source": [
    "df.drop(columns='이상 심박동수',inplace = True)\n",
    "df.head(2)"
   ]
  },
  {
   "cell_type": "code",
   "execution_count": 75,
   "metadata": {},
   "outputs": [],
   "source": [
    "col_list['num_col'].remove('이상 심박동수')"
   ]
  },
  {
   "cell_type": "code",
   "execution_count": 51,
   "metadata": {},
   "outputs": [],
   "source": [
    "df.to_csv('data1.csv',index = False)"
   ]
  },
  {
   "cell_type": "code",
   "execution_count": 80,
   "metadata": {},
   "outputs": [
    {
     "name": "stdout",
     "output_type": "stream",
     "text": [
      "Stored 'col_list' (dict)\n"
     ]
    }
   ],
   "source": [
    "%store col_list \n",
    "# 다른 코드파일에서 불러올 수 있게 변수 저장"
   ]
  }
 ],
 "metadata": {
  "kernelspec": {
   "display_name": "myenv",
   "language": "python",
   "name": "python3"
  },
  "language_info": {
   "codemirror_mode": {
    "name": "ipython",
    "version": 3
   },
   "file_extension": ".py",
   "mimetype": "text/x-python",
   "name": "python",
   "nbconvert_exporter": "python",
   "pygments_lexer": "ipython3",
   "version": "3.12.4"
  }
 },
 "nbformat": 4,
 "nbformat_minor": 2
}
